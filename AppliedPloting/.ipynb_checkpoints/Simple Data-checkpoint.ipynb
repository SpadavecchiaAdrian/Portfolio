{
 "cells": [
  {
   "cell_type": "markdown",
   "metadata": {},
   "source": [
    "# Simple Data\n",
    "In this example, it is intended to show how a simple data can be plotted using the principles of Cairo, improving various aspects of the plot."
   ]
  },
  {
   "cell_type": "markdown",
   "metadata": {},
   "source": [
    "## 1 Region and Domain\n",
    "Ann Arbor, Michigan, United States\n",
    "Religious or traditions"
   ]
  },
  {
   "cell_type": "markdown",
   "metadata": {},
   "source": [
    "## 2 Research Question\n",
    "\n",
    "How have the number of followers of the main branches of religion varied in relation to the population the last 30 years?"
   ]
  },
  {
   "cell_type": "markdown",
   "metadata": {},
   "source": [
    "## 3 Links"
   ]
  },
  {
   "cell_type": "markdown",
   "metadata": {
    "collapsed": true
   },
   "source": [
    "Ann Arbor 2010 report: \n",
    "http://www.thearda.com/rcms2010/rcms2010a.asp?U=11460&T=metro&S=Name&Y=2010\n",
    "\n",
    "Ann Arbor 2000 report: \n",
    "http://www.thearda.com/rcms2010/rcms2010a.asp?U=11460&T=metro&S=Name&Y=2000\n",
    "\n",
    "Ann Arbor 1990 report: \n",
    "http://www.thearda.com/rcms2010/rcms2010a.asp?U=11460&T=metro&S=Name&Y=1990\n",
    "\n",
    "Ann Arbor 1980 report: \n",
    "http://www.thearda.com/rcms2010/rcms2010a.asp?U=11460&T=metro&S=Name&Y=1980\n"
   ]
  },
  {
   "cell_type": "markdown",
   "metadata": {},
   "source": [
    "## 4 Image\n",
    "<img src=\"assignment 4.png\">"
   ]
  },
  {
   "cell_type": "markdown",
   "metadata": {},
   "source": [
    "## 5 Discussion\n",
    "This visualization was concerned with answering the question of How the number of followers of the main branches of religion varied in relation to the population in the last 30 years. 'thearda.com' was scraped for data concerning the region Ann Arbor and the last 30 years of data. Any new tradition of news religion bodies was dropped from the analysis in order to provide a more level comparison between the traditions. A ratio between the sum of the Adherents grouped by the traditions and the population was plotted to help the reader identify any major trends in the adherents ratio.\n",
    "\n",
    "The plot indicates that, in general, all religions have a decrease in relation to the size of the population. Except for 'other' where the new religions are classified showing an increased rate. More information should be taken into account to draw conclusions, since Ann Arbor is a university city, with 33% of its employment in education services."
   ]
  },
  {
   "cell_type": "markdown",
   "metadata": {},
   "source": [
    "## 6 Cairo's principles\n",
    "### Truthfulness\n",
    "\n",
    "Because the population grows, it is logical that adherents of religions grow. But, in reality, they do not grow at the same speed as the population, this is why the ratio is shown.\n",
    "### Beauty\n",
    "\n",
    "the plot was created thinking about simplicity, small details like removing the frame of the labels and the type of line '-o' were taken into account.\n",
    "### Functionality\n",
    "\n",
    "to give it more functionality the color style 'seaborn-colorblind' was used\n",
    "### Insightfulness\n",
    "\n",
    "I think that seeing the different religious traditions plotted in ratios with respect to the population gives us that feeling of eureka, seeing that in general religions lose adherents in relation to the size of the population, and as new religions 'other' begin to grow to generate pluralism religious and cultural."
   ]
  },
  {
   "cell_type": "code",
   "execution_count": 1,
   "metadata": {},
   "outputs": [],
   "source": [
    "import pandas as pd\n",
    "import numpy as np\n",
    "import matplotlib.pyplot as plt\n",
    "\n",
    "%matplotlib notebook"
   ]
  },
  {
   "cell_type": "code",
   "execution_count": 2,
   "metadata": {},
   "outputs": [
    {
     "data": {
      "text/html": [
       "<div>\n",
       "<style scoped>\n",
       "    .dataframe tbody tr th:only-of-type {\n",
       "        vertical-align: middle;\n",
       "    }\n",
       "\n",
       "    .dataframe tbody tr th {\n",
       "        vertical-align: top;\n",
       "    }\n",
       "\n",
       "    .dataframe thead th {\n",
       "        text-align: right;\n",
       "    }\n",
       "</style>\n",
       "<table border=\"1\" class=\"dataframe\">\n",
       "  <thead>\n",
       "    <tr style=\"text-align: right;\">\n",
       "      <th>Tradition</th>\n",
       "      <th>Catholic</th>\n",
       "      <th>Evangelical Protestant</th>\n",
       "      <th>Mainline Protestant</th>\n",
       "      <th>Orthodox</th>\n",
       "      <th>Other</th>\n",
       "    </tr>\n",
       "  </thead>\n",
       "  <tbody>\n",
       "    <tr>\n",
       "      <th>1980</th>\n",
       "      <td>0.142634</td>\n",
       "      <td>0.059589</td>\n",
       "      <td>0.134260</td>\n",
       "      <td>0.000000</td>\n",
       "      <td>0.008552</td>\n",
       "    </tr>\n",
       "    <tr>\n",
       "      <th>1990</th>\n",
       "      <td>0.121497</td>\n",
       "      <td>0.108303</td>\n",
       "      <td>0.116503</td>\n",
       "      <td>0.000000</td>\n",
       "      <td>0.022033</td>\n",
       "    </tr>\n",
       "    <tr>\n",
       "      <th>2000</th>\n",
       "      <td>0.129299</td>\n",
       "      <td>0.064349</td>\n",
       "      <td>0.091664</td>\n",
       "      <td>0.003363</td>\n",
       "      <td>0.045492</td>\n",
       "    </tr>\n",
       "    <tr>\n",
       "      <th>2010</th>\n",
       "      <td>0.123562</td>\n",
       "      <td>0.073491</td>\n",
       "      <td>0.075048</td>\n",
       "      <td>0.002662</td>\n",
       "      <td>0.037953</td>\n",
       "    </tr>\n",
       "  </tbody>\n",
       "</table>\n",
       "</div>"
      ],
      "text/plain": [
       "Tradition  Catholic  Evangelical Protestant  Mainline Protestant  Orthodox  \\\n",
       "1980       0.142634                0.059589             0.134260  0.000000   \n",
       "1990       0.121497                0.108303             0.116503  0.000000   \n",
       "2000       0.129299                0.064349             0.091664  0.003363   \n",
       "2010       0.123562                0.073491             0.075048  0.002662   \n",
       "\n",
       "Tradition     Other  \n",
       "1980       0.008552  \n",
       "1990       0.022033  \n",
       "2000       0.045492  \n",
       "2010       0.037953  "
      ]
     },
     "execution_count": 2,
     "metadata": {},
     "output_type": "execute_result"
    }
   ],
   "source": [
    "#loading dataset\n",
    "ann2010= pd.read_excel('arda-AnnArbor-1980-2010.xls'\n",
    "                       ,sheet_name = '2010'\n",
    "                       ,nrows = 74\n",
    "                       ,usecols=[1, 4]\n",
    "                       ,na_values='---')\n",
    "ann2000= pd.read_excel('arda-AnnArbor-1980-2010.xls'\n",
    "                       ,sheet_name = '2000'\n",
    "                       ,nrows = 52\n",
    "                       ,usecols=[1, 4]\n",
    "                       ,na_values='---')\n",
    "ann1990= pd.read_excel('arda-AnnArbor-1980-2010.xls'\n",
    "                       ,sheet_name = '1990'\n",
    "                       ,nrows = 51\n",
    "                       ,usecols=[1, 4]\n",
    "                       ,na_values='---')\n",
    "ann1980= pd.read_excel('arda-AnnArbor-1980-2010.xls'\n",
    "                       ,sheet_name = '1980'\n",
    "                       ,nrows = 50\n",
    "                       ,usecols=[1, 4]\n",
    "                       ,na_values='---')\n",
    "#populations sense \n",
    "popul = {'2010':344791\n",
    "        ,'2000':322895\n",
    "        ,'1990':282937\n",
    "        ,'1980':264748}\n",
    "\n",
    "\n",
    "\n",
    "#filter datasets\n",
    "ann2010 = ann2010.sort_values(by=['Tradition']).groupby('Tradition').sum()\n",
    "ann2010.rename(columns={'Adherents':'2010'}, inplace = True)\n",
    "ann2000 = ann2000.sort_values(by=['Tradition']).groupby('Tradition').sum()\n",
    "ann2000.rename(columns={'Adherents':'2000'}, inplace = True)\n",
    "ann1990 = ann1990.sort_values(by=['Tradition']).groupby('Tradition').sum()\n",
    "ann1990.rename(columns={'Adherents':'1990'}, inplace = True)\n",
    "ann1980 = ann1980.sort_values(by=['Tradition']).groupby('Tradition').sum()\n",
    "ann1980.rename(columns={'Adherents':'1980'}, inplace = True)\n",
    "\n",
    "\n",
    "#ratio\n",
    "ann2010 = ann2010 / popul['2010'] \n",
    "ann2000 = ann2000 / popul['2000'] \n",
    "ann1990 = ann1990 / popul['1990'] \n",
    "ann1980 = ann1980 / popul['1980'] \n",
    "\n",
    "#join\n",
    "ann = pd.merge(ann2000, ann2010, how='outer', left_index=True, right_index=True)\n",
    "ann = pd.merge(ann1990, ann, how='outer', left_index=True, right_index=True)\n",
    "ann = pd.merge(ann1980, ann, how='outer', left_index=True, right_index=True)\n",
    "\n",
    "\n",
    "ann = ann.drop(['Black Protestant'], axis=0)\n",
    "ann = ann.T\n",
    "ann"
   ]
  },
  {
   "cell_type": "code",
   "execution_count": 3,
   "metadata": {
    "scrolled": true
   },
   "outputs": [
    {
     "data": {
      "text/plain": [
       "<matplotlib.legend.Legend at 0x7f6300427080>"
      ]
     },
     "execution_count": 3,
     "metadata": {},
     "output_type": "execute_result"
    },
    {
     "data": {
      "image/png": "[encoded data removed]",
      "text/plain": [
       "<Figure size 648x432 with 1 Axes>"
      ]
     },
     "metadata": {
      "needs_background": "light"
     },
     "output_type": "display_data"
    }
   ],
   "source": [
    "\n",
    "# use the 'seaborn-colorblind' style\n",
    "plt.style.use('seaborn-colorblind')\n",
    "\n",
    "plt.subplots(figsize=(9, 6))\n",
    "plt.plot(ann, '-o')\n",
    "plt.xlabel('Year')\n",
    "plt.ylabel('Ratio Adherents vs population')\n",
    "plt.title('Ratio of Adherents in Religions vs population \\n in Ann Arbor, Michigan  [1980-2010]')\n",
    "plt.legend(['Catholic', 'Evangelical Protestant', 'Mainline Protestant', 'Orthodox', 'Other']\n",
    "           , loc = 0, ncol = 2, fontsize=6, frameon = False)\n",
    "\n"
   ]
  }
 ],
 "metadata": {
  "kernelspec": {
   "display_name": "Python 3",
   "language": "python",
   "name": "python3"
  },
  "language_info": {
   "codemirror_mode": {
    "name": "ipython",
    "version": 3
   },
   "file_extension": ".py",
   "mimetype": "text/x-python",
   "name": "python",
   "nbconvert_exporter": "python",
   "pygments_lexer": "ipython3",
   "version": "3.7.3"
  }
 },
 "nbformat": 4,
 "nbformat_minor": 1
}
